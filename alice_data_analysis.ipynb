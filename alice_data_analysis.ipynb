{
 "cells": [
  {
   "cell_type": "code",
   "execution_count": 1,
   "id": "a420cc2d",
   "metadata": {},
   "outputs": [],
   "source": [
    "import pandas as pd\n",
    "from statistics import mode"
   ]
  },
  {
   "cell_type": "markdown",
   "id": "b5ca6704",
   "metadata": {},
   "source": [
    "### Считываем данные"
   ]
  },
  {
   "cell_type": "code",
   "execution_count": 2,
   "id": "51b118c0",
   "metadata": {},
   "outputs": [],
   "source": [
    "data = pd.read_csv(\"data/train.csv\")"
   ]
  },
  {
   "cell_type": "code",
   "execution_count": 3,
   "id": "f9530039",
   "metadata": {
    "scrolled": false
   },
   "outputs": [
    {
     "data": {
      "text/html": [
       "<div>\n",
       "<style scoped>\n",
       "    .dataframe tbody tr th:only-of-type {\n",
       "        vertical-align: middle;\n",
       "    }\n",
       "\n",
       "    .dataframe tbody tr th {\n",
       "        vertical-align: top;\n",
       "    }\n",
       "\n",
       "    .dataframe thead th {\n",
       "        text-align: right;\n",
       "    }\n",
       "</style>\n",
       "<table border=\"1\" class=\"dataframe\">\n",
       "  <thead>\n",
       "    <tr style=\"text-align: right;\">\n",
       "      <th></th>\n",
       "      <th>session_id</th>\n",
       "      <th>site1</th>\n",
       "      <th>time1</th>\n",
       "      <th>site2</th>\n",
       "      <th>time2</th>\n",
       "      <th>site3</th>\n",
       "      <th>time3</th>\n",
       "      <th>site4</th>\n",
       "      <th>time4</th>\n",
       "      <th>site5</th>\n",
       "      <th>...</th>\n",
       "      <th>time6</th>\n",
       "      <th>site7</th>\n",
       "      <th>time7</th>\n",
       "      <th>site8</th>\n",
       "      <th>time8</th>\n",
       "      <th>site9</th>\n",
       "      <th>time9</th>\n",
       "      <th>site10</th>\n",
       "      <th>time10</th>\n",
       "      <th>target</th>\n",
       "    </tr>\n",
       "  </thead>\n",
       "  <tbody>\n",
       "    <tr>\n",
       "      <th>0</th>\n",
       "      <td>1</td>\n",
       "      <td>718</td>\n",
       "      <td>2014-02-20 10:02:45</td>\n",
       "      <td>NaN</td>\n",
       "      <td>NaN</td>\n",
       "      <td>NaN</td>\n",
       "      <td>NaN</td>\n",
       "      <td>NaN</td>\n",
       "      <td>NaN</td>\n",
       "      <td>NaN</td>\n",
       "      <td>...</td>\n",
       "      <td>NaN</td>\n",
       "      <td>NaN</td>\n",
       "      <td>NaN</td>\n",
       "      <td>NaN</td>\n",
       "      <td>NaN</td>\n",
       "      <td>NaN</td>\n",
       "      <td>NaN</td>\n",
       "      <td>NaN</td>\n",
       "      <td>NaN</td>\n",
       "      <td>0</td>\n",
       "    </tr>\n",
       "    <tr>\n",
       "      <th>1</th>\n",
       "      <td>2</td>\n",
       "      <td>890</td>\n",
       "      <td>2014-02-22 11:19:50</td>\n",
       "      <td>941.0</td>\n",
       "      <td>2014-02-22 11:19:50</td>\n",
       "      <td>3847.0</td>\n",
       "      <td>2014-02-22 11:19:51</td>\n",
       "      <td>941.0</td>\n",
       "      <td>2014-02-22 11:19:51</td>\n",
       "      <td>942.0</td>\n",
       "      <td>...</td>\n",
       "      <td>2014-02-22 11:19:51</td>\n",
       "      <td>3847.0</td>\n",
       "      <td>2014-02-22 11:19:52</td>\n",
       "      <td>3846.0</td>\n",
       "      <td>2014-02-22 11:19:52</td>\n",
       "      <td>1516.0</td>\n",
       "      <td>2014-02-22 11:20:15</td>\n",
       "      <td>1518.0</td>\n",
       "      <td>2014-02-22 11:20:16</td>\n",
       "      <td>0</td>\n",
       "    </tr>\n",
       "    <tr>\n",
       "      <th>2</th>\n",
       "      <td>3</td>\n",
       "      <td>14769</td>\n",
       "      <td>2013-12-16 16:40:17</td>\n",
       "      <td>39.0</td>\n",
       "      <td>2013-12-16 16:40:18</td>\n",
       "      <td>14768.0</td>\n",
       "      <td>2013-12-16 16:40:19</td>\n",
       "      <td>14769.0</td>\n",
       "      <td>2013-12-16 16:40:19</td>\n",
       "      <td>37.0</td>\n",
       "      <td>...</td>\n",
       "      <td>2013-12-16 16:40:19</td>\n",
       "      <td>14768.0</td>\n",
       "      <td>2013-12-16 16:40:20</td>\n",
       "      <td>14768.0</td>\n",
       "      <td>2013-12-16 16:40:21</td>\n",
       "      <td>14768.0</td>\n",
       "      <td>2013-12-16 16:40:22</td>\n",
       "      <td>14768.0</td>\n",
       "      <td>2013-12-16 16:40:24</td>\n",
       "      <td>0</td>\n",
       "    </tr>\n",
       "    <tr>\n",
       "      <th>3</th>\n",
       "      <td>4</td>\n",
       "      <td>782</td>\n",
       "      <td>2014-03-28 10:52:12</td>\n",
       "      <td>782.0</td>\n",
       "      <td>2014-03-28 10:52:42</td>\n",
       "      <td>782.0</td>\n",
       "      <td>2014-03-28 10:53:12</td>\n",
       "      <td>782.0</td>\n",
       "      <td>2014-03-28 10:53:42</td>\n",
       "      <td>782.0</td>\n",
       "      <td>...</td>\n",
       "      <td>2014-03-28 10:54:42</td>\n",
       "      <td>782.0</td>\n",
       "      <td>2014-03-28 10:55:12</td>\n",
       "      <td>782.0</td>\n",
       "      <td>2014-03-28 10:55:42</td>\n",
       "      <td>782.0</td>\n",
       "      <td>2014-03-28 10:56:12</td>\n",
       "      <td>782.0</td>\n",
       "      <td>2014-03-28 10:56:42</td>\n",
       "      <td>0</td>\n",
       "    </tr>\n",
       "    <tr>\n",
       "      <th>4</th>\n",
       "      <td>5</td>\n",
       "      <td>22</td>\n",
       "      <td>2014-02-28 10:53:05</td>\n",
       "      <td>177.0</td>\n",
       "      <td>2014-02-28 10:55:22</td>\n",
       "      <td>175.0</td>\n",
       "      <td>2014-02-28 10:55:22</td>\n",
       "      <td>178.0</td>\n",
       "      <td>2014-02-28 10:55:23</td>\n",
       "      <td>177.0</td>\n",
       "      <td>...</td>\n",
       "      <td>2014-02-28 10:55:59</td>\n",
       "      <td>175.0</td>\n",
       "      <td>2014-02-28 10:55:59</td>\n",
       "      <td>177.0</td>\n",
       "      <td>2014-02-28 10:55:59</td>\n",
       "      <td>177.0</td>\n",
       "      <td>2014-02-28 10:57:06</td>\n",
       "      <td>178.0</td>\n",
       "      <td>2014-02-28 10:57:11</td>\n",
       "      <td>0</td>\n",
       "    </tr>\n",
       "  </tbody>\n",
       "</table>\n",
       "<p>5 rows × 22 columns</p>\n",
       "</div>"
      ],
      "text/plain": [
       "   session_id  site1                time1  site2                time2  \\\n",
       "0           1    718  2014-02-20 10:02:45    NaN                  NaN   \n",
       "1           2    890  2014-02-22 11:19:50  941.0  2014-02-22 11:19:50   \n",
       "2           3  14769  2013-12-16 16:40:17   39.0  2013-12-16 16:40:18   \n",
       "3           4    782  2014-03-28 10:52:12  782.0  2014-03-28 10:52:42   \n",
       "4           5     22  2014-02-28 10:53:05  177.0  2014-02-28 10:55:22   \n",
       "\n",
       "     site3                time3    site4                time4  site5  ...  \\\n",
       "0      NaN                  NaN      NaN                  NaN    NaN  ...   \n",
       "1   3847.0  2014-02-22 11:19:51    941.0  2014-02-22 11:19:51  942.0  ...   \n",
       "2  14768.0  2013-12-16 16:40:19  14769.0  2013-12-16 16:40:19   37.0  ...   \n",
       "3    782.0  2014-03-28 10:53:12    782.0  2014-03-28 10:53:42  782.0  ...   \n",
       "4    175.0  2014-02-28 10:55:22    178.0  2014-02-28 10:55:23  177.0  ...   \n",
       "\n",
       "                 time6    site7                time7    site8  \\\n",
       "0                  NaN      NaN                  NaN      NaN   \n",
       "1  2014-02-22 11:19:51   3847.0  2014-02-22 11:19:52   3846.0   \n",
       "2  2013-12-16 16:40:19  14768.0  2013-12-16 16:40:20  14768.0   \n",
       "3  2014-03-28 10:54:42    782.0  2014-03-28 10:55:12    782.0   \n",
       "4  2014-02-28 10:55:59    175.0  2014-02-28 10:55:59    177.0   \n",
       "\n",
       "                 time8    site9                time9   site10  \\\n",
       "0                  NaN      NaN                  NaN      NaN   \n",
       "1  2014-02-22 11:19:52   1516.0  2014-02-22 11:20:15   1518.0   \n",
       "2  2013-12-16 16:40:21  14768.0  2013-12-16 16:40:22  14768.0   \n",
       "3  2014-03-28 10:55:42    782.0  2014-03-28 10:56:12    782.0   \n",
       "4  2014-02-28 10:55:59    177.0  2014-02-28 10:57:06    178.0   \n",
       "\n",
       "                time10  target  \n",
       "0                  NaN       0  \n",
       "1  2014-02-22 11:20:16       0  \n",
       "2  2013-12-16 16:40:24       0  \n",
       "3  2014-03-28 10:56:42       0  \n",
       "4  2014-02-28 10:57:11       0  \n",
       "\n",
       "[5 rows x 22 columns]"
      ]
     },
     "execution_count": 3,
     "metadata": {},
     "output_type": "execute_result"
    }
   ],
   "source": [
    "data.head()"
   ]
  },
  {
   "cell_type": "code",
   "execution_count": 4,
   "id": "bb60029d",
   "metadata": {},
   "outputs": [
    {
     "name": "stdout",
     "output_type": "stream",
     "text": [
      "<class 'pandas.core.frame.DataFrame'>\n",
      "RangeIndex: 253561 entries, 0 to 253560\n",
      "Data columns (total 22 columns):\n",
      " #   Column      Non-Null Count   Dtype  \n",
      "---  ------      --------------   -----  \n",
      " 0   session_id  253561 non-null  int64  \n",
      " 1   site1       253561 non-null  int64  \n",
      " 2   time1       253561 non-null  object \n",
      " 3   site2       250098 non-null  float64\n",
      " 4   time2       250098 non-null  object \n",
      " 5   site3       246919 non-null  float64\n",
      " 6   time3       246919 non-null  object \n",
      " 7   site4       244321 non-null  float64\n",
      " 8   time4       244321 non-null  object \n",
      " 9   site5       241829 non-null  float64\n",
      " 10  time5       241829 non-null  object \n",
      " 11  site6       239495 non-null  float64\n",
      " 12  time6       239495 non-null  object \n",
      " 13  site7       237297 non-null  float64\n",
      " 14  time7       237297 non-null  object \n",
      " 15  site8       235224 non-null  float64\n",
      " 16  time8       235224 non-null  object \n",
      " 17  site9       233084 non-null  float64\n",
      " 18  time9       233084 non-null  object \n",
      " 19  site10      231052 non-null  float64\n",
      " 20  time10      231052 non-null  object \n",
      " 21  target      253561 non-null  int64  \n",
      "dtypes: float64(9), int64(3), object(10)\n",
      "memory usage: 42.6+ MB\n",
      "None\n"
     ]
    }
   ],
   "source": [
    "print(data.info())"
   ]
  },
  {
   "cell_type": "markdown",
   "id": "14394374",
   "metadata": {},
   "source": [
    "### Переведем время в datetime для удобного анализа"
   ]
  },
  {
   "cell_type": "code",
   "execution_count": 5,
   "id": "2df6a402",
   "metadata": {},
   "outputs": [],
   "source": [
    "for i in range(10):\n",
    "    time = \"time\" + str(i+1)\n",
    "    data[time]=pd.to_datetime(data[time])"
   ]
  },
  {
   "cell_type": "markdown",
   "id": "52f40a19",
   "metadata": {},
   "source": [
    "### Посмотрим сессии Alice"
   ]
  },
  {
   "cell_type": "code",
   "execution_count": 6,
   "id": "f99cffed",
   "metadata": {},
   "outputs": [],
   "source": [
    "data[data[\"target\"] == 1].head()"
   ]
  },
  {
   "cell_type": "markdown",
   "id": "eebf9996",
   "metadata": {},
   "source": [
    "### Выведем процент сессий Alice"
   ]
  },
  {
   "cell_type": "code",
   "execution_count": 7,
   "id": "fdb0e139",
   "metadata": {
    "scrolled": true
   },
   "outputs": [
    {
     "data": {
      "text/plain": [
       "0    0.990941\n",
       "1    0.009059\n",
       "Name: target, dtype: float64"
      ]
     },
     "execution_count": 7,
     "metadata": {},
     "output_type": "execute_result"
    }
   ],
   "source": [
    "data[\"target\"].value_counts(normalize=True)"
   ]
  },
  {
   "cell_type": "markdown",
   "id": "0987883e",
   "metadata": {},
   "source": [
    "### В какой день недели Alice появилась в первый раз?"
   ]
  },
  {
   "cell_type": "code",
   "execution_count": 8,
   "id": "5f3b794d",
   "metadata": {},
   "outputs": [
    {
     "data": {
      "text/html": [
       "<div>\n",
       "<style scoped>\n",
       "    .dataframe tbody tr th:only-of-type {\n",
       "        vertical-align: middle;\n",
       "    }\n",
       "\n",
       "    .dataframe tbody tr th {\n",
       "        vertical-align: top;\n",
       "    }\n",
       "\n",
       "    .dataframe thead th {\n",
       "        text-align: right;\n",
       "    }\n",
       "</style>\n",
       "<table border=\"1\" class=\"dataframe\">\n",
       "  <thead>\n",
       "    <tr style=\"text-align: right;\">\n",
       "      <th></th>\n",
       "      <th>session_id</th>\n",
       "      <th>site1</th>\n",
       "      <th>time1</th>\n",
       "      <th>site2</th>\n",
       "      <th>time2</th>\n",
       "      <th>site3</th>\n",
       "      <th>time3</th>\n",
       "      <th>site4</th>\n",
       "      <th>time4</th>\n",
       "      <th>site5</th>\n",
       "      <th>...</th>\n",
       "      <th>time6</th>\n",
       "      <th>site7</th>\n",
       "      <th>time7</th>\n",
       "      <th>site8</th>\n",
       "      <th>time8</th>\n",
       "      <th>site9</th>\n",
       "      <th>time9</th>\n",
       "      <th>site10</th>\n",
       "      <th>time10</th>\n",
       "      <th>target</th>\n",
       "    </tr>\n",
       "  </thead>\n",
       "  <tbody>\n",
       "    <tr>\n",
       "      <th>79634</th>\n",
       "      <td>79635</td>\n",
       "      <td>270</td>\n",
       "      <td>2013-11-15 12:18:58</td>\n",
       "      <td>63.0</td>\n",
       "      <td>2013-11-15 12:21:25</td>\n",
       "      <td>21.0</td>\n",
       "      <td>2013-11-15 12:27:04</td>\n",
       "      <td>21.0</td>\n",
       "      <td>2013-11-15 12:27:05</td>\n",
       "      <td>22.0</td>\n",
       "      <td>...</td>\n",
       "      <td>2013-11-15 12:27:25</td>\n",
       "      <td>21.0</td>\n",
       "      <td>2013-11-15 12:27:25</td>\n",
       "      <td>7832.0</td>\n",
       "      <td>2013-11-15 12:27:28</td>\n",
       "      <td>21.0</td>\n",
       "      <td>2013-11-15 12:27:28</td>\n",
       "      <td>30.0</td>\n",
       "      <td>2013-11-15 12:27:29</td>\n",
       "      <td>1</td>\n",
       "    </tr>\n",
       "    <tr>\n",
       "      <th>11790</th>\n",
       "      <td>11791</td>\n",
       "      <td>7832</td>\n",
       "      <td>2013-11-15 12:27:29</td>\n",
       "      <td>29.0</td>\n",
       "      <td>2013-11-15 12:27:30</td>\n",
       "      <td>7832.0</td>\n",
       "      <td>2013-11-15 12:27:31</td>\n",
       "      <td>37.0</td>\n",
       "      <td>2013-11-15 12:27:32</td>\n",
       "      <td>7832.0</td>\n",
       "      <td>...</td>\n",
       "      <td>2013-11-15 12:27:41</td>\n",
       "      <td>29.0</td>\n",
       "      <td>2013-11-15 12:27:41</td>\n",
       "      <td>7832.0</td>\n",
       "      <td>2013-11-15 12:27:47</td>\n",
       "      <td>30.0</td>\n",
       "      <td>2013-11-15 12:27:47</td>\n",
       "      <td>29.0</td>\n",
       "      <td>2013-11-15 12:27:47</td>\n",
       "      <td>1</td>\n",
       "    </tr>\n",
       "    <tr>\n",
       "      <th>250237</th>\n",
       "      <td>250238</td>\n",
       "      <td>7832</td>\n",
       "      <td>2013-11-15 12:28:02</td>\n",
       "      <td>30.0</td>\n",
       "      <td>2013-11-15 12:28:02</td>\n",
       "      <td>29.0</td>\n",
       "      <td>2013-11-15 12:28:03</td>\n",
       "      <td>30.0</td>\n",
       "      <td>2013-11-15 12:28:09</td>\n",
       "      <td>7832.0</td>\n",
       "      <td>...</td>\n",
       "      <td>2013-11-15 12:28:09</td>\n",
       "      <td>37.0</td>\n",
       "      <td>2013-11-15 12:28:18</td>\n",
       "      <td>21.0</td>\n",
       "      <td>2013-11-15 12:28:28</td>\n",
       "      <td>7832.0</td>\n",
       "      <td>2013-11-15 12:28:30</td>\n",
       "      <td>30.0</td>\n",
       "      <td>2013-11-15 12:28:30</td>\n",
       "      <td>1</td>\n",
       "    </tr>\n",
       "    <tr>\n",
       "      <th>72788</th>\n",
       "      <td>72789</td>\n",
       "      <td>29</td>\n",
       "      <td>2013-11-15 12:28:30</td>\n",
       "      <td>37.0</td>\n",
       "      <td>2013-11-15 12:29:02</td>\n",
       "      <td>7832.0</td>\n",
       "      <td>2013-11-15 12:31:41</td>\n",
       "      <td>30.0</td>\n",
       "      <td>2013-11-15 12:31:41</td>\n",
       "      <td>29.0</td>\n",
       "      <td>...</td>\n",
       "      <td>2013-11-15 12:31:53</td>\n",
       "      <td>30.0</td>\n",
       "      <td>2013-11-15 12:31:53</td>\n",
       "      <td>29.0</td>\n",
       "      <td>2013-11-15 12:31:53</td>\n",
       "      <td>7832.0</td>\n",
       "      <td>2013-11-15 12:32:06</td>\n",
       "      <td>30.0</td>\n",
       "      <td>2013-11-15 12:32:07</td>\n",
       "      <td>1</td>\n",
       "    </tr>\n",
       "    <tr>\n",
       "      <th>184884</th>\n",
       "      <td>184885</td>\n",
       "      <td>29</td>\n",
       "      <td>2013-11-15 12:32:07</td>\n",
       "      <td>37.0</td>\n",
       "      <td>2013-11-15 12:32:28</td>\n",
       "      <td>29.0</td>\n",
       "      <td>2013-11-15 12:34:41</td>\n",
       "      <td>7832.0</td>\n",
       "      <td>2013-11-15 12:34:41</td>\n",
       "      <td>30.0</td>\n",
       "      <td>...</td>\n",
       "      <td>2013-11-15 12:35:05</td>\n",
       "      <td>7832.0</td>\n",
       "      <td>2013-11-15 12:35:06</td>\n",
       "      <td>30.0</td>\n",
       "      <td>2013-11-15 12:35:07</td>\n",
       "      <td>29.0</td>\n",
       "      <td>2013-11-15 12:35:07</td>\n",
       "      <td>7832.0</td>\n",
       "      <td>2013-11-15 12:35:17</td>\n",
       "      <td>1</td>\n",
       "    </tr>\n",
       "  </tbody>\n",
       "</table>\n",
       "<p>5 rows × 22 columns</p>\n",
       "</div>"
      ],
      "text/plain": [
       "        session_id  site1               time1  site2               time2  \\\n",
       "79634        79635    270 2013-11-15 12:18:58   63.0 2013-11-15 12:21:25   \n",
       "11790        11791   7832 2013-11-15 12:27:29   29.0 2013-11-15 12:27:30   \n",
       "250237      250238   7832 2013-11-15 12:28:02   30.0 2013-11-15 12:28:02   \n",
       "72788        72789     29 2013-11-15 12:28:30   37.0 2013-11-15 12:29:02   \n",
       "184884      184885     29 2013-11-15 12:32:07   37.0 2013-11-15 12:32:28   \n",
       "\n",
       "         site3               time3   site4               time4   site5  ...  \\\n",
       "79634     21.0 2013-11-15 12:27:04    21.0 2013-11-15 12:27:05    22.0  ...   \n",
       "11790   7832.0 2013-11-15 12:27:31    37.0 2013-11-15 12:27:32  7832.0  ...   \n",
       "250237    29.0 2013-11-15 12:28:03    30.0 2013-11-15 12:28:09  7832.0  ...   \n",
       "72788   7832.0 2013-11-15 12:31:41    30.0 2013-11-15 12:31:41    29.0  ...   \n",
       "184884    29.0 2013-11-15 12:34:41  7832.0 2013-11-15 12:34:41    30.0  ...   \n",
       "\n",
       "                     time6   site7               time7   site8  \\\n",
       "79634  2013-11-15 12:27:25    21.0 2013-11-15 12:27:25  7832.0   \n",
       "11790  2013-11-15 12:27:41    29.0 2013-11-15 12:27:41  7832.0   \n",
       "250237 2013-11-15 12:28:09    37.0 2013-11-15 12:28:18    21.0   \n",
       "72788  2013-11-15 12:31:53    30.0 2013-11-15 12:31:53    29.0   \n",
       "184884 2013-11-15 12:35:05  7832.0 2013-11-15 12:35:06    30.0   \n",
       "\n",
       "                     time8   site9               time9  site10  \\\n",
       "79634  2013-11-15 12:27:28    21.0 2013-11-15 12:27:28    30.0   \n",
       "11790  2013-11-15 12:27:47    30.0 2013-11-15 12:27:47    29.0   \n",
       "250237 2013-11-15 12:28:28  7832.0 2013-11-15 12:28:30    30.0   \n",
       "72788  2013-11-15 12:31:53  7832.0 2013-11-15 12:32:06    30.0   \n",
       "184884 2013-11-15 12:35:07    29.0 2013-11-15 12:35:07  7832.0   \n",
       "\n",
       "                    time10  target  \n",
       "79634  2013-11-15 12:27:29       1  \n",
       "11790  2013-11-15 12:27:47       1  \n",
       "250237 2013-11-15 12:28:30       1  \n",
       "72788  2013-11-15 12:32:07       1  \n",
       "184884 2013-11-15 12:35:17       1  \n",
       "\n",
       "[5 rows x 22 columns]"
      ]
     },
     "execution_count": 8,
     "metadata": {},
     "output_type": "execute_result"
    }
   ],
   "source": [
    "data[data[\"target\"] == 1].sort_values(by=\"time1\").head()"
   ]
  },
  {
   "cell_type": "code",
   "execution_count": 9,
   "id": "508e1f09",
   "metadata": {},
   "outputs": [
    {
     "data": {
      "text/plain": [
       "4"
      ]
     },
     "execution_count": 9,
     "metadata": {},
     "output_type": "execute_result"
    }
   ],
   "source": [
    "min(data[data[\"target\"] == 1][\"time1\"]).dayofweek # 4-пятница "
   ]
  },
  {
   "cell_type": "markdown",
   "id": "6ffe6955",
   "metadata": {},
   "source": [
    "### Какие года присутсвуют в обучающей выборке?"
   ]
  },
  {
   "cell_type": "code",
   "execution_count": 10,
   "id": "944ec044",
   "metadata": {},
   "outputs": [],
   "source": [
    "data[\"year\"] = data[\"time1\"].dt.year"
   ]
  },
  {
   "cell_type": "code",
   "execution_count": 11,
   "id": "fbfde3a8",
   "metadata": {},
   "outputs": [
    {
     "data": {
      "text/plain": [
       "array([2014, 2013])"
      ]
     },
     "execution_count": 11,
     "metadata": {},
     "output_type": "execute_result"
    }
   ],
   "source": [
    "data[\"year\"].unique()"
   ]
  },
  {
   "cell_type": "markdown",
   "id": "5501784b",
   "metadata": {},
   "source": [
    "### Какой сайт в обучающей выборке чаще всего посещает первым Элис?"
   ]
  },
  {
   "cell_type": "code",
   "execution_count": 12,
   "id": "35642ba0",
   "metadata": {},
   "outputs": [],
   "source": [
    "sites_ = pd.read_pickle(\"data/site_dic.pkl\")\n",
    "sites = {y: x for x, y in sites_.items()}"
   ]
  },
  {
   "cell_type": "code",
   "execution_count": 13,
   "id": "3f7f9003",
   "metadata": {},
   "outputs": [],
   "source": [
    "Alice_freq_site = data[data[\"target\"] == 1][\"site1\"].mode()"
   ]
  },
  {
   "cell_type": "code",
   "execution_count": 14,
   "id": "8ea2c093",
   "metadata": {},
   "outputs": [
    {
     "data": {
      "text/plain": [
       "0    80\n",
       "Name: site1, dtype: int64"
      ]
     },
     "execution_count": 14,
     "metadata": {},
     "output_type": "execute_result"
    }
   ],
   "source": [
    "Alice_freq_site"
   ]
  },
  {
   "cell_type": "code",
   "execution_count": 15,
   "id": "6053e0a6",
   "metadata": {},
   "outputs": [
    {
     "data": {
      "text/plain": [
       "'s.youtube.com'"
      ]
     },
     "execution_count": 15,
     "metadata": {},
     "output_type": "execute_result"
    }
   ],
   "source": [
    "sites[Alice_freq_site[0]]"
   ]
  },
  {
   "cell_type": "markdown",
   "id": "b90051ef",
   "metadata": {},
   "source": [
    "### Какой сайт в обучающей выборке чаще всего посещает первым обычный пользователь?"
   ]
  },
  {
   "cell_type": "code",
   "execution_count": 16,
   "id": "258a7f25",
   "metadata": {},
   "outputs": [],
   "source": [
    "user_freq_site = data[data[\"target\"] == 0][\"site1\"].mode()"
   ]
  },
  {
   "cell_type": "code",
   "execution_count": 17,
   "id": "266b9c38",
   "metadata": {},
   "outputs": [
    {
     "data": {
      "text/plain": [
       "0    21\n",
       "Name: site1, dtype: int64"
      ]
     },
     "execution_count": 17,
     "metadata": {},
     "output_type": "execute_result"
    }
   ],
   "source": [
    "user_freq_site"
   ]
  },
  {
   "cell_type": "code",
   "execution_count": 18,
   "id": "9990a3b1",
   "metadata": {},
   "outputs": [
    {
     "data": {
      "text/plain": [
       "'www.google.fr'"
      ]
     },
     "execution_count": 18,
     "metadata": {},
     "output_type": "execute_result"
    }
   ],
   "source": [
    "sites[user_freq_site[0]]"
   ]
  },
  {
   "cell_type": "markdown",
   "id": "e37984c3",
   "metadata": {},
   "source": [
    "### Какой сайт в обучающей выборке является вторым по популярности в 2014 году и сколько раз его посещали в 2014 году?"
   ]
  },
  {
   "cell_type": "code",
   "execution_count": 19,
   "id": "d7cd8ea9",
   "metadata": {},
   "outputs": [
    {
     "data": {
      "text/plain": [
       "1788860"
      ]
     },
     "execution_count": 19,
     "metadata": {},
     "output_type": "execute_result"
    }
   ],
   "source": [
    "s = []\n",
    "for i in range(10):\n",
    "    site = \"site\" + str(i+1)\n",
    "    s.extend(data[data[\"year\"] == 2014][site].tolist())\n",
    "len(s)"
   ]
  },
  {
   "cell_type": "code",
   "execution_count": 20,
   "id": "210c9999",
   "metadata": {},
   "outputs": [
    {
     "name": "stdout",
     "output_type": "stream",
     "text": [
      "782\n"
     ]
    }
   ],
   "source": [
    "def most_common(d, n):\n",
    "    l = d[:]\n",
    "    for i in range(1, n+1):\n",
    "        nth_mode = mode(l)\n",
    "        l = list(filter(lambda val:val != nth_mode, l))\n",
    "    return(nth_mode)\n",
    "most = most_common(s, 2)\n",
    "print(most)"
   ]
  },
  {
   "cell_type": "code",
   "execution_count": 21,
   "id": "18ea31f9",
   "metadata": {},
   "outputs": [
    {
     "data": {
      "text/plain": [
       "'annotathon.org'"
      ]
     },
     "execution_count": 21,
     "metadata": {},
     "output_type": "execute_result"
    }
   ],
   "source": [
    "sites[most]"
   ]
  },
  {
   "cell_type": "code",
   "execution_count": 22,
   "id": "60c5e6a2",
   "metadata": {},
   "outputs": [
    {
     "data": {
      "text/plain": [
       "77039"
      ]
     },
     "execution_count": 22,
     "metadata": {},
     "output_type": "execute_result"
    }
   ],
   "source": [
    "s.count(most)"
   ]
  },
  {
   "cell_type": "markdown",
   "id": "0bbc8729",
   "metadata": {},
   "source": [
    "### Сколько всего сессий обучающей выборки содержат в себе меньше чем 10 сайтов?"
   ]
  },
  {
   "cell_type": "code",
   "execution_count": 23,
   "id": "e73dc7a2",
   "metadata": {},
   "outputs": [
    {
     "data": {
      "text/plain": [
       "22509"
      ]
     },
     "execution_count": 23,
     "metadata": {},
     "output_type": "execute_result"
    }
   ],
   "source": [
    "data[\"site10\"].isna().sum()"
   ]
  },
  {
   "cell_type": "markdown",
   "id": "1813d58a",
   "metadata": {},
   "source": [
    "### Выбрать верное утверждение"
   ]
  },
  {
   "cell_type": "markdown",
   "id": "b0bc88a4",
   "metadata": {},
   "source": [
    "#### Лето является самым малоактивным временем года вообще?"
   ]
  },
  {
   "cell_type": "code",
   "execution_count": 24,
   "id": "78cfed1c",
   "metadata": {},
   "outputs": [],
   "source": [
    "data[\"month\"] = data[\"time1\"].dt.month"
   ]
  },
  {
   "cell_type": "code",
   "execution_count": 25,
   "id": "6b9e6e3b",
   "metadata": {},
   "outputs": [],
   "source": [
    "data[\"season\"] = data[\"month\"]%12//3+1"
   ]
  },
  {
   "cell_type": "code",
   "execution_count": 26,
   "id": "cf6be308",
   "metadata": {},
   "outputs": [
    {
     "data": {
      "text/plain": [
       "1    0.491886\n",
       "2    0.385390\n",
       "4    0.122724\n",
       "Name: season, dtype: float64"
      ]
     },
     "execution_count": 26,
     "metadata": {},
     "output_type": "execute_result"
    }
   ],
   "source": [
    "data[\"season\"].value_counts(normalize=True)"
   ]
  },
  {
   "cell_type": "markdown",
   "id": "d4a4de65",
   "metadata": {},
   "source": [
    "Лето -- самое малоактивное время года"
   ]
  },
  {
   "cell_type": "markdown",
   "id": "ad1944a9",
   "metadata": {},
   "source": [
    "#### Элис наиболее активна в марте и неактивна летом"
   ]
  },
  {
   "cell_type": "code",
   "execution_count": 27,
   "id": "b465dc98",
   "metadata": {},
   "outputs": [
    {
     "data": {
      "text/plain": [
       "12    610\n",
       "2     449\n",
       "11    446\n",
       "3     399\n",
       "4     305\n",
       "1      88\n",
       "Name: month, dtype: int64"
      ]
     },
     "execution_count": 27,
     "metadata": {},
     "output_type": "execute_result"
    }
   ],
   "source": [
    "data[data[\"target\"] == 1][\"month\"].value_counts()"
   ]
  },
  {
   "cell_type": "markdown",
   "id": "866cc585",
   "metadata": {},
   "source": [
    "Элис наиболее активна в декабре"
   ]
  },
  {
   "cell_type": "markdown",
   "id": "ae638d35",
   "metadata": {},
   "source": [
    "#### В среднем Элис проводит меньше времени на первой странице, чем другие пользователи"
   ]
  },
  {
   "cell_type": "code",
   "execution_count": 28,
   "id": "e62d39e7",
   "metadata": {},
   "outputs": [],
   "source": [
    "data[\"diff1\"] = data['time2'] - data['time1']"
   ]
  },
  {
   "cell_type": "code",
   "execution_count": 29,
   "id": "a30a62be",
   "metadata": {},
   "outputs": [
    {
     "data": {
      "text/plain": [
       "Timedelta('0 days 00:00:06.397994768')"
      ]
     },
     "execution_count": 29,
     "metadata": {},
     "output_type": "execute_result"
    }
   ],
   "source": [
    "data[data[\"target\"] == 1][\"diff1\"].mean()"
   ]
  },
  {
   "cell_type": "code",
   "execution_count": 30,
   "id": "a2238eb6",
   "metadata": {},
   "outputs": [
    {
     "data": {
      "text/plain": [
       "Timedelta('0 days 00:00:19.317000532')"
      ]
     },
     "execution_count": 30,
     "metadata": {},
     "output_type": "execute_result"
    }
   ],
   "source": [
    "data[data[\"target\"] == 0][\"diff1\"].mean()"
   ]
  },
  {
   "cell_type": "markdown",
   "id": "bbf6f8c2",
   "metadata": {},
   "source": [
    "Элис проводит меньше времени на первой странице, чем другие пользователи"
   ]
  },
  {
   "cell_type": "markdown",
   "id": "74e5f040",
   "metadata": {},
   "source": [
    "#### Медианная длительность посещения первой страницы у не-Элис больше, чем у Элис"
   ]
  },
  {
   "cell_type": "code",
   "execution_count": 31,
   "id": "8a03a851",
   "metadata": {},
   "outputs": [
    {
     "data": {
      "text/plain": [
       "Timedelta('0 days 00:00:01')"
      ]
     },
     "execution_count": 31,
     "metadata": {},
     "output_type": "execute_result"
    }
   ],
   "source": [
    "data[data[\"target\"] == 1][\"diff1\"].median()"
   ]
  },
  {
   "cell_type": "code",
   "execution_count": 32,
   "id": "09a1125d",
   "metadata": {},
   "outputs": [
    {
     "data": {
      "text/plain": [
       "Timedelta('0 days 00:00:01')"
      ]
     },
     "execution_count": 32,
     "metadata": {},
     "output_type": "execute_result"
    }
   ],
   "source": [
    "data[data[\"target\"] == 0][\"diff1\"].median()"
   ]
  },
  {
   "cell_type": "markdown",
   "id": "8c89ee99",
   "metadata": {},
   "source": [
    "Медианная длительность посещения первой страницы  одинакова"
   ]
  },
  {
   "cell_type": "markdown",
   "id": "0f5a7c30",
   "metadata": {},
   "source": [
    "### Чему равно медианное значение количества уникальных сайтов в рамках одной сессии обучающей выборки?"
   ]
  },
  {
   "cell_type": "code",
   "execution_count": 33,
   "id": "22428a26",
   "metadata": {},
   "outputs": [],
   "source": [
    "all_sites = [\"site1\", \"site2\", \"site3\", \"site4\", \"site5\", \"site6\", \"site7\", \"site8\", \"site9\", \"site10\"]\n",
    "data['num_uniq'] = data[all_sites].stack().groupby(level=0).nunique()"
   ]
  },
  {
   "cell_type": "code",
   "execution_count": 34,
   "id": "20546221",
   "metadata": {},
   "outputs": [
    {
     "data": {
      "text/plain": [
       "6.0"
      ]
     },
     "execution_count": 34,
     "metadata": {},
     "output_type": "execute_result"
    }
   ],
   "source": [
    "data[\"num_uniq\"].median()"
   ]
  },
  {
   "cell_type": "markdown",
   "id": "5a33169a",
   "metadata": {},
   "source": [
    "### Чему равно медианное значение времени сессии в обучающей выборке (время посещения последнего сайта примем равным нулю)?"
   ]
  },
  {
   "cell_type": "code",
   "execution_count": 35,
   "id": "00f11bb3",
   "metadata": {},
   "outputs": [],
   "source": [
    "all_time = [\"time1\", \"time2\", \"time3\", \"time4\", \"time5\", \"time6\", \"time7\", \"time8\", \"time9\", \"time10\"]\n",
    "data[\"last_session\"] = data[all_time].max(axis=1)"
   ]
  },
  {
   "cell_type": "code",
   "execution_count": 36,
   "id": "31e7ccb1",
   "metadata": {},
   "outputs": [],
   "source": [
    "data[\"session_time\"] = data['last_session'] - data['time1']"
   ]
  },
  {
   "cell_type": "code",
   "execution_count": 37,
   "id": "c2361a13",
   "metadata": {},
   "outputs": [
    {
     "data": {
      "text/plain": [
       "Timedelta('0 days 00:00:27')"
      ]
     },
     "execution_count": 37,
     "metadata": {},
     "output_type": "execute_result"
    }
   ],
   "source": [
    "data[\"session_time\"].median()"
   ]
  },
  {
   "cell_type": "markdown",
   "id": "b3c33f8f",
   "metadata": {},
   "source": [
    "### В каком месяце доля сессий Элис среди всех сессий наибольшая?"
   ]
  },
  {
   "cell_type": "code",
   "execution_count": 38,
   "id": "6e54f74c",
   "metadata": {},
   "outputs": [
    {
     "data": {
      "text/html": [
       "<div>\n",
       "<style scoped>\n",
       "    .dataframe tbody tr th:only-of-type {\n",
       "        vertical-align: middle;\n",
       "    }\n",
       "\n",
       "    .dataframe tbody tr th {\n",
       "        vertical-align: top;\n",
       "    }\n",
       "\n",
       "    .dataframe thead th {\n",
       "        text-align: right;\n",
       "    }\n",
       "</style>\n",
       "<table border=\"1\" class=\"dataframe\">\n",
       "  <thead>\n",
       "    <tr style=\"text-align: right;\">\n",
       "      <th>month</th>\n",
       "      <th>1</th>\n",
       "      <th>2</th>\n",
       "      <th>3</th>\n",
       "      <th>4</th>\n",
       "      <th>5</th>\n",
       "      <th>11</th>\n",
       "      <th>12</th>\n",
       "    </tr>\n",
       "    <tr>\n",
       "      <th>target</th>\n",
       "      <th></th>\n",
       "      <th></th>\n",
       "      <th></th>\n",
       "      <th></th>\n",
       "      <th></th>\n",
       "      <th></th>\n",
       "      <th></th>\n",
       "    </tr>\n",
       "  </thead>\n",
       "  <tbody>\n",
       "    <tr>\n",
       "      <th>0</th>\n",
       "      <td>0.996864</td>\n",
       "      <td>0.991546</td>\n",
       "      <td>0.992782</td>\n",
       "      <td>0.992799</td>\n",
       "      <td>1.0</td>\n",
       "      <td>0.985667</td>\n",
       "      <td>0.985995</td>\n",
       "    </tr>\n",
       "    <tr>\n",
       "      <th>1</th>\n",
       "      <td>0.003136</td>\n",
       "      <td>0.008454</td>\n",
       "      <td>0.007218</td>\n",
       "      <td>0.007201</td>\n",
       "      <td>0.0</td>\n",
       "      <td>0.014333</td>\n",
       "      <td>0.014005</td>\n",
       "    </tr>\n",
       "  </tbody>\n",
       "</table>\n",
       "</div>"
      ],
      "text/plain": [
       "month         1         2         3         4    5         11        12\n",
       "target                                                                 \n",
       "0       0.996864  0.991546  0.992782  0.992799  1.0  0.985667  0.985995\n",
       "1       0.003136  0.008454  0.007218  0.007201  0.0  0.014333  0.014005"
      ]
     },
     "execution_count": 38,
     "metadata": {},
     "output_type": "execute_result"
    }
   ],
   "source": [
    "pd.crosstab(data[\"target\"], data[\"month\"], normalize=\"columns\")"
   ]
  },
  {
   "cell_type": "markdown",
   "id": "7af800bd",
   "metadata": {},
   "source": [
    "Доля сессий наибольшая в ноябре (11)"
   ]
  },
  {
   "cell_type": "code",
   "execution_count": null,
   "id": "eb87a5bc",
   "metadata": {},
   "outputs": [],
   "source": []
  }
 ],
 "metadata": {
  "kernelspec": {
   "display_name": "Python 3 (ipykernel)",
   "language": "python",
   "name": "python3"
  },
  "language_info": {
   "codemirror_mode": {
    "name": "ipython",
    "version": 3
   },
   "file_extension": ".py",
   "mimetype": "text/x-python",
   "name": "python",
   "nbconvert_exporter": "python",
   "pygments_lexer": "ipython3",
   "version": "3.10.9"
  }
 },
 "nbformat": 4,
 "nbformat_minor": 5
}
